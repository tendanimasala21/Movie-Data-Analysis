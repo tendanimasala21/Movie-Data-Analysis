{
  "nbformat": 4,
  "nbformat_minor": 0,
  "metadata": {
    "colab": {
      "provenance": []
    },
    "kernelspec": {
      "name": "python3",
      "display_name": "Python 3"
    },
    "language_info": {
      "name": "python"
    }
  },
  "cells": [
    {
      "cell_type": "markdown",
      "source": [
        "Data Acquisition and Loading"
      ],
      "metadata": {
        "id": "9K2wMnZd93_c"
      }
    },
    {
      "cell_type": "code",
      "execution_count": null,
      "metadata": {
        "id": "L4QmOiD8Wqtz"
      },
      "outputs": [],
      "source": [
        "# Importing all the necessary libraries needed for the project\n",
        "import pandas as pd\n",
        "import matplotlib.pyplot as plt\n",
        "import seaborn as sns\n",
        "import numpy as np"
      ]
    },
    {
      "cell_type": "code",
      "source": [
        "# Loading the dataset in to the dataFrame\n",
        "file_path = \"IMDbMovies.csv\""
      ],
      "metadata": {
        "id": "n5Ia1cFqYLlF"
      },
      "execution_count": null,
      "outputs": []
    },
    {
      "cell_type": "code",
      "source": [
        "# Read the csv file into a dataFrame\n",
        "df = pd.read_csv(file_path)"
      ],
      "metadata": {
        "id": "7PBU2mgJZn0E"
      },
      "execution_count": null,
      "outputs": []
    },
    {
      "cell_type": "markdown",
      "source": [
        "Data Exploration and Cleaning"
      ],
      "metadata": {
        "id": "l6MTe7cz-Bx7"
      }
    },
    {
      "cell_type": "code",
      "source": [
        "# Displaying the first 5 rows of the DataFrame\n",
        "df.head()"
      ],
      "metadata": {
        "collapsed": true,
        "id": "3GaLoCOS-IzW"
      },
      "execution_count": null,
      "outputs": []
    },
    {
      "cell_type": "code",
      "source": [
        "# Displaying the last 5 rows of the DataFrame\n",
        "df.tail()"
      ],
      "metadata": {
        "id": "0g32U5CWCpoq"
      },
      "execution_count": null,
      "outputs": []
    },
    {
      "cell_type": "code",
      "source": [
        "# Concise summary of the DataFrame\n",
        "df.info()"
      ],
      "metadata": {
        "id": "mIFUo82I_2DL"
      },
      "execution_count": null,
      "outputs": []
    },
    {
      "cell_type": "code",
      "source": [
        "df = df[df['Release Year'] > 2014]"
      ],
      "metadata": {
        "id": "A2sWmcABa5k7"
      },
      "execution_count": null,
      "outputs": []
    },
    {
      "cell_type": "code",
      "source": [
        "df.info()"
      ],
      "metadata": {
        "id": "ft3-a-eha7dw"
      },
      "execution_count": null,
      "outputs": []
    },
    {
      "cell_type": "code",
      "source": [
        "# Removing duplicate rows\n",
        "df.drop_duplicates(inplace=True)"
      ],
      "metadata": {
        "id": "T_e5HvFQA-HS"
      },
      "execution_count": null,
      "outputs": []
    },
    {
      "cell_type": "code",
      "source": [
        "# Remove rows where 'budget' has missing values (NaN)\n",
        "df_cleaned = df.dropna(subset=['Budget'])"
      ],
      "metadata": {
        "id": "uSG8DHX3w0xa"
      },
      "execution_count": null,
      "outputs": []
    },
    {
      "cell_type": "code",
      "source": [
        "# Display the first 5 rows in the new DataFrame\n",
        "df_cleaned.head()"
      ],
      "metadata": {
        "id": "aCPs7zeoxSjX"
      },
      "execution_count": null,
      "outputs": []
    },
    {
      "cell_type": "code",
      "source": [
        "# Changing column names and removing unnecessary characters\n",
        "# 'Rating' column to 'Rating (Out of 10)'\n",
        "df_cleaned.rename(columns={'Rating': 'Rating (Out of 10)'},inplace=True)\n",
        "df_cleaned['Rating (Out of 10)'] = df_cleaned['Rating (Out of 10)'].str.replace(r'/10', '')\n",
        "\n",
        "# 'Number of Ratings' column to 'Number of Ratings (in thousands)'\n",
        "df_cleaned.rename(columns={'Number of Ratings': 'Number of Ratings (in thousands)'},inplace=True)\n",
        "df_cleaned['Number of Ratings (in thousands)'] = df_cleaned['Number of Ratings (in thousands)'].str.replace(r'\\D', '', regex=True)\n",
        "\n",
        "# 'Budget' column to 'Budget (in millions)'\n",
        "df_cleaned.rename(columns={'Budget': 'Budget (in millions)'}, inplace=True)\n",
        "\n",
        "# 'Gross in US & Canada' column to 'Gross in US & Canada (in millions)'\n",
        "df_cleaned.rename(columns={'Gross in US & Canada': 'Gross in US & Canada (in millions)'}, inplace=True)\n",
        "df_cleaned['Gross in US & Canada (in millions)'] = df_cleaned['Gross in US & Canada (in millions)'].str.replace(r'\\D', '', regex=True)\n",
        "\n",
        "# 'Gross worldwide' column to 'Gross worldwide (in millions)'\n",
        "df_cleaned.rename(columns={'Gross worldwide': 'Gross worldwide (in millions)'}, inplace=True)\n",
        "\n",
        "# 'Opening Weekend Gross in US & Canada' column to 'Opening Weekend Gross in US & Canada (in millions)'\n",
        "df_cleaned.rename(columns={'Opening Weekend Gross in US & Canada': 'Opening Weekend Gross in US & Canada (in millions)'}, inplace=True)\n",
        "df_cleaned.head(2)"
      ],
      "metadata": {
        "id": "PhXSLo04F1KX"
      },
      "execution_count": null,
      "outputs": []
    },
    {
      "cell_type": "code",
      "source": [
        "# Change the data type for the 'Release Year', 'Gross in US & Canada (in millions)' and 'Number of Ratings (in thousands)' columns\n",
        "df_cleaned = df_cleaned.astype({'Release Year': 'Int64', 'Gross in US & Canada (in millions)': 'Int64', 'Number of Ratings (in thousands)': 'Int64'})"
      ],
      "metadata": {
        "id": "2c25hU5PPot6"
      },
      "execution_count": null,
      "outputs": []
    },
    {
      "cell_type": "code",
      "source": [
        "# Custom function to convert Rating (Out of 10) column to float data type\n",
        "def convert_to_float(rating):\n",
        "    # Check if the rating is already a float\n",
        "    if isinstance(rating, float):\n",
        "        return rating\n",
        "    try:\n",
        "        # Split the string by '/' and convert the first part to float\n",
        "        return float(rating.split('/')[0])\n",
        "    except ValueError:\n",
        "        # if conversion fails return NaN\n",
        "        return float('nan')\n",
        "\n",
        "# Apply the custom function to the 'Rating (Out of 10)' column\n",
        "df_cleaned['Rating (Out of 10)'] = df_cleaned['Rating (Out of 10)'].apply(convert_to_float)"
      ],
      "metadata": {
        "id": "L9D_7gc-zmbZ"
      },
      "execution_count": null,
      "outputs": []
    },
    {
      "cell_type": "markdown",
      "source": [
        "Feature Engineering"
      ],
      "metadata": {
        "id": "nARy7cdilM_x"
      }
    },
    {
      "cell_type": "code",
      "source": [
        "# Removing the currency symbol and letters from the data on the 'Budget' and 'Gross worldwide' columns\n",
        "df_cleaned['Budget (in millions)'] = df_cleaned['Budget (in millions)'].str.replace(r'\\D', '', regex=True)\n",
        "df_cleaned['Gross worldwide (in millions)'] = df_cleaned['Gross worldwide (in millions)'].str.replace(r'\\D', '', regex=True)\n",
        "df_cleaned.head(2)"
      ],
      "metadata": {
        "id": "0LMMPPCI4A3i"
      },
      "execution_count": null,
      "outputs": []
    },
    {
      "cell_type": "code",
      "source": [
        "# Change the data type for the 'Budget' and 'Gross worldwide' columns\n",
        "df_cleaned = df_cleaned.astype({'Budget (in millions)': 'Int64', 'Gross worldwide (in millions)': 'Int64'})"
      ],
      "metadata": {
        "id": "OLdurEoV1g7a"
      },
      "execution_count": null,
      "outputs": []
    },
    {
      "cell_type": "code",
      "source": [
        "# Creating a feature called revenue\n",
        "df_cleaned['Revenue'] = df_cleaned['Gross worldwide (in millions)'] - df_cleaned['Budget (in millions)']"
      ],
      "metadata": {
        "id": "nbJjR2GBlQc2"
      },
      "execution_count": null,
      "outputs": []
    },
    {
      "cell_type": "code",
      "source": [
        "# Renaming the 'Revenue' column to 'Revenue (in millions)'\n",
        "df_cleaned.rename(columns={'Revenue': 'Revenue (in millions)'}, inplace=True)\n",
        "df_cleaned.info()"
      ],
      "metadata": {
        "id": "HRrpXTuFDiPW"
      },
      "execution_count": null,
      "outputs": []
    },
    {
      "cell_type": "markdown",
      "source": [
        "Answering Specific Questions"
      ],
      "metadata": {
        "id": "lwjLfMgufWoI"
      }
    },
    {
      "cell_type": "code",
      "source": [
        "# Which year had the highest average voting?\n",
        "highest_avg_rating_by_year = df_cleaned.groupby('Release Year')['Number of Ratings (in thousands)'].mean().idxmax()\n",
        "highest_avg_rating_by_year"
      ],
      "metadata": {
        "id": "hM2sHf0sfbD7"
      },
      "execution_count": null,
      "outputs": []
    },
    {
      "cell_type": "code",
      "source": [
        "# Which year had the highest average revenue?\n",
        "highest_avg_revenue_by_year = df_cleaned.groupby('Release Year')['Revenue (in millions)'].mean().idxmax()\n",
        "highest_avg_revenue_by_year"
      ],
      "metadata": {
        "id": "2t5n-4n3nX_9"
      },
      "execution_count": null,
      "outputs": []
    },
    {
      "cell_type": "code",
      "source": [
        "# What is the average rating for each director?\n",
        "avg_rating_per_director = df_cleaned.groupby('Director')['Rating (Out of 10)'].mean()\n",
        "avg_rating_per_director"
      ],
      "metadata": {
        "id": "TTc0HcP60CVi"
      },
      "execution_count": null,
      "outputs": []
    },
    {
      "cell_type": "code",
      "source": [
        "# Does rating affect revenue?\n",
        "# correlation = df_cleaned['Number of Ratings (in thousands)'].corr(df_cleaned['Revenue (in millions)'])\n",
        "# correlation\n",
        "\n",
        "# Create a smaller DataFrame with just the columns you want to correlate\n",
        "data_for_heatmap = df_cleaned[['Revenue (in millions)', 'Number of Ratings (in thousands)']]\n",
        "\n",
        "# Calculate the correlation matrix\n",
        "correlation_matrix = data_for_heatmap.corr()\n",
        "\n",
        "# Create a heat map\n",
        "plt.figure(figsize=(8, 6))\n",
        "sns.heatmap(correlation_matrix, annot=True, cmap='coolwarm', center=0)\n",
        "plt.title('Heat Map of Correlation between Revenue and Number of Ratings')\n",
        "plt.show()"
      ],
      "metadata": {
        "id": "f3rd-1lF0z5e"
      },
      "execution_count": null,
      "outputs": []
    },
    {
      "cell_type": "code",
      "source": [
        "# Saving the dataFrame back to a csv file\n",
        "df_cleaned.to_csv('cleaned_imdbmovies_data.csv', index=False)"
      ],
      "metadata": {
        "id": "SeRcmvxbZ-ko"
      },
      "execution_count": null,
      "outputs": []
    },
    {
      "cell_type": "markdown",
      "source": [
        "Hypothesis testing\n"
      ],
      "metadata": {
        "id": "Cv9nuEQgd5ZA"
      }
    },
    {
      "cell_type": "markdown",
      "source": [
        "The hypothesis: Action movies have higher revenue than Drama movies"
      ],
      "metadata": {
        "id": "xL9XCMqWgEV6"
      }
    },
    {
      "cell_type": "code",
      "source": [
        "# Import the necessary library to perform the test\n",
        "import scipy.stats as stats"
      ],
      "metadata": {
        "id": "gFgbmsBwd9aE"
      },
      "execution_count": null,
      "outputs": []
    },
    {
      "cell_type": "code",
      "source": [
        "# Filter the data for action and drama movies\n",
        "action_movies = df_cleaned[df_cleaned['Main Genres'].str.contains('Action', case=False)]\n",
        "drama_movies = df_cleaned[df_cleaned['Main Genres'].str.contains('Drama', case=False)]"
      ],
      "metadata": {
        "id": "ZkxXCYg6ePLp"
      },
      "execution_count": null,
      "outputs": []
    },
    {
      "cell_type": "code",
      "source": [
        "action_movies['Revenue (in millions)'] = action_movies['Revenue (in millions)'].astype('float64')\n",
        "drama_movies['Revenue (in millions)'] = drama_movies['Revenue (in millions)'].astype('float64')"
      ],
      "metadata": {
        "id": "c7aapC5XLEz8"
      },
      "execution_count": null,
      "outputs": []
    },
    {
      "cell_type": "code",
      "source": [
        "action_movies['Revenue (in millions)'] = action_movies['Revenue (in millions)'].fillna(0)\n",
        "drama_movies['Revenue (in millions)'] = drama_movies['Revenue (in millions)'].fillna(0)"
      ],
      "metadata": {
        "id": "ljMKfW4ULLfn"
      },
      "execution_count": null,
      "outputs": []
    },
    {
      "cell_type": "code",
      "source": [
        "# Perform a t-test\n",
        "t_statistic, p_value = stats.ttest_ind(action_movies['Revenue (in millions)'], drama_movies['Revenue (in millions)'])"
      ],
      "metadata": {
        "id": "VBqRDY2Sepb5"
      },
      "execution_count": null,
      "outputs": []
    },
    {
      "cell_type": "code",
      "source": [
        "# Print the results\n",
        "print(\"T-statistic:\", t_statistic)\n",
        "print(\"P-value:\", p_value)"
      ],
      "metadata": {
        "id": "MUK74jmRfAJY"
      },
      "execution_count": null,
      "outputs": []
    },
    {
      "cell_type": "code",
      "source": [
        "# Interpret the results\n",
        "if p_value < 0.05:\n",
        "    print(\"We reject the null hypothesis and conclude that action movies have higher revenues than drama movies.\")\n",
        "else:\n",
        "    print(\"We fail to reject the null hypothesis and cannot conclude that action movies have higher revenues than drama movies.\")"
      ],
      "metadata": {
        "id": "HMcphb8ZfDlZ"
      },
      "execution_count": null,
      "outputs": []
    }
  ]
}